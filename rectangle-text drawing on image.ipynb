{
 "cells": [
  {
   "cell_type": "code",
   "execution_count": 1,
   "id": "be6be1ce",
   "metadata": {},
   "outputs": [],
   "source": [
    "import numpy as np\n",
    "import os\n",
    "import cv2"
   ]
  },
  {
   "cell_type": "code",
   "execution_count": 14,
   "id": "51cdbbec",
   "metadata": {},
   "outputs": [],
   "source": [
    "path = r\"C:\\Users\\amitk\\Downloads\\images_ml\\shikhar-dhawan.jpg\"\n",
    "\n",
    "img = cv2.imread(path)\n",
    "\n",
    "img = cv2.resize(img,(1200,720))\n",
    "\n",
    "text = \"SHIKHAR\"\n",
    "origin = (100 ,150)\n",
    "font = cv2.FONT_HERSHEY_COMPLEX\n",
    "fontScale = 6\n",
    "color = (0,0,155)\n",
    "thickness = 3\n",
    "linetype = cv2.LINE_AA\n",
    "bottomLeftOrigin =False\n",
    "\n",
    "img_text = cv2.putText(img,text,origin,font,fontScale,color,thickness,linetype,bottomLeftOrigin)\n",
    "\n",
    "cv2.imshow('image',img_text)\n",
    "\n",
    "cv2.waitKey(0)\n",
    "cv2.destroyAllWindows()\n"
   ]
  },
  {
   "cell_type": "code",
   "execution_count": 21,
   "id": "962703da",
   "metadata": {},
   "outputs": [],
   "source": [
    "path = r\"C:\\Users\\amitk\\Downloads\\images_ml\\shikhar-dhawan.jpg\"\n",
    "\n",
    "img = cv2.imread(path)\n",
    "\n",
    "img = cv2.resize(img,(1200,720))\n",
    "\n",
    "pt1 = (500,40)\n",
    "pt2 = (900,400)\n",
    "color =(0,0,150)\n",
    "thickness = 4\n",
    "linetype =cv2.LINE_8\n",
    "\n",
    "\n",
    "\n",
    "img_text = cv2.rectangle(img,pt1,pt2,color,thickness,linetype)\n",
    "\n",
    "cv2.imshow('image',img_text)\n",
    "\n",
    "cv2.waitKey(0)\n",
    "cv2.destroyAllWindows()"
   ]
  },
  {
   "cell_type": "code",
   "execution_count": null,
   "id": "0d4c32c0",
   "metadata": {},
   "outputs": [],
   "source": [
    "path = r\"C:\\Users\\amitk\\Downloads\\images_ml\\shikhar-dhawan.jpg\"\n",
    "\n",
    "img = cv2.imread(path)\n",
    "\n",
    "img = cv2.resize(img,(1200,720))\n",
    "\n",
    "text = \"shikhar\"\n",
    "origin = (100 ,150)\n",
    "font = cv2.FONT_HERSHEY_PLAIN\n",
    "fontScale = 3\n",
    "color = (0,0,155)\n",
    "thickness = 2\n",
    "linetype = cv2.LINE_AA\n",
    "bottomLeftOrigin =False\n",
    "\n",
    "img_text = cv2.putText(img,text,origin,font,fontScale,color,thickness,linetype,bottomLeftOrigin)\n",
    "\n",
    "\n",
    "pt1 = (500,40)\n",
    "pt2 = (900,400)\n",
    "color =(0,255,0)\n",
    "thickness = -1\n",
    "linetype =cv2.LINE_8\n",
    "\n",
    "\n",
    "\n",
    "img_text = cv2.rectangle(img,pt1,pt2,color,thickness,linetype)\n",
    "\n",
    "cv2.imshow('image',img_text)\n",
    "\n",
    "cv2.waitKey(0)\n",
    "cv2.destroyAllWindows()"
   ]
  },
  {
   "cell_type": "code",
   "execution_count": null,
   "id": "4fa48c21",
   "metadata": {},
   "outputs": [],
   "source": []
  }
 ],
 "metadata": {
  "kernelspec": {
   "display_name": "Python 3 (ipykernel)",
   "language": "python",
   "name": "python3"
  },
  "language_info": {
   "codemirror_mode": {
    "name": "ipython",
    "version": 3
   },
   "file_extension": ".py",
   "mimetype": "text/x-python",
   "name": "python",
   "nbconvert_exporter": "python",
   "pygments_lexer": "ipython3",
   "version": "3.9.12"
  }
 },
 "nbformat": 4,
 "nbformat_minor": 5
}
