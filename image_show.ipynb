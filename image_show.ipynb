{
 "cells": [
  {
   "cell_type": "code",
   "execution_count": 1,
   "id": "88f4b94f",
   "metadata": {},
   "outputs": [],
   "source": [
    "import cv2\n",
    "import numpy as np"
   ]
  },
  {
   "cell_type": "code",
   "execution_count": 10,
   "id": "083f87ce",
   "metadata": {},
   "outputs": [
    {
     "name": "stdout",
     "output_type": "stream",
     "text": [
      "[[[60 68 78]\n",
      "  [60 68 78]\n",
      "  [59 68 81]\n",
      "  ...\n",
      "  [ 0  0  0]\n",
      "  [ 0  0  0]\n",
      "  [ 5  5  3]]\n",
      "\n",
      " [[51 58 66]\n",
      "  [64 72 83]\n",
      "  [66 74 84]\n",
      "  ...\n",
      "  [ 5  5  3]\n",
      "  [ 5  5  3]\n",
      "  [ 0  1  0]]\n",
      "\n",
      " [[21 26 32]\n",
      "  [31 36 42]\n",
      "  [49 55 63]\n",
      "  ...\n",
      "  [ 6  7  4]\n",
      "  [ 6  7  4]\n",
      "  [ 0  1  0]]\n",
      "\n",
      " ...\n",
      "\n",
      " [[10 14 16]\n",
      "  [12 16 18]\n",
      "  [13 17 19]\n",
      "  ...\n",
      "  [55 69 89]\n",
      "  [55 69 89]\n",
      "  [55 69 89]]\n",
      "\n",
      " [[10 14 16]\n",
      "  [12 16 18]\n",
      "  [13 17 19]\n",
      "  ...\n",
      "  [58 70 90]\n",
      "  [58 70 90]\n",
      "  [58 70 90]]\n",
      "\n",
      " [[10 14 16]\n",
      "  [12 16 18]\n",
      "  [13 17 19]\n",
      "  ...\n",
      "  [58 70 90]\n",
      "  [58 70 90]\n",
      "  [58 70 90]]]\n"
     ]
    }
   ],
   "source": [
    "path = r\"C:\\Users\\amitk\\Downloads\\images_ml\\c.webp\"\n",
    "img = cv2.imread(path)\n",
    "print(img)\n",
    "# print(img.shape)\n",
    "cv2.imshow(\"image\",img)\n",
    "cv2.waitKey(0)\n",
    "\n",
    "cv2.destroyAllWindows()\n",
    "\n",
    "# 0 (black) to 255 (white). pixelcolor range"
   ]
  },
  {
   "cell_type": "code",
   "execution_count": 57,
   "id": "3f6d8665",
   "metadata": {},
   "outputs": [
    {
     "name": "stdout",
     "output_type": "stream",
     "text": [
      "[[70 70 71 ...  0  0  4]\n",
      " [60 74 76 ...  4  4  1]\n",
      " [27 37 57 ...  6  6  1]\n",
      " ...\n",
      " [14 16 17 ... 73 73 73]\n",
      " [14 16 17 ... 75 75 75]\n",
      " [14 16 17 ... 75 75 75]]\n"
     ]
    }
   ],
   "source": [
    "path = r\"C:\\Users\\amitk\\Downloads\\images_ml\\c.webp\"\n",
    "img = cv2.imread(path,0)\n",
    "print(img)\n",
    "\n",
    "cv2.imshow(\"image\",img)\n",
    "cv2.waitKey(0)\n",
    "\n",
    "cv2.destroyAllWindows()"
   ]
  },
  {
   "cell_type": "code",
   "execution_count": 9,
   "id": "f54fa01c",
   "metadata": {},
   "outputs": [
    {
     "name": "stdout",
     "output_type": "stream",
     "text": [
      "[[0. 0. 0. ... 0. 0. 0.]\n",
      " [0. 0. 0. ... 0. 0. 0.]\n",
      " [0. 0. 0. ... 0. 0. 0.]\n",
      " ...\n",
      " [0. 0. 0. ... 0. 0. 0.]\n",
      " [0. 0. 0. ... 0. 0. 0.]\n",
      " [0. 0. 0. ... 0. 0. 0.]]\n"
     ]
    }
   ],
   "source": [
    "matx = np.zeros((400,200))\n",
    "print(matx)\n",
    "cv2.imshow('Image',matx)\n",
    "cv2.waitKey(0)\n",
    "\n",
    "cv2.destroyAllWindows()\n"
   ]
  },
  {
   "cell_type": "code",
   "execution_count": 17,
   "id": "1aab5b8a",
   "metadata": {},
   "outputs": [],
   "source": [
    "path = r\"C:\\Users\\amitk\\Downloads\"\n",
    "img_name = \"c.webp\"\n",
    "\n",
    "img = cv2.imread(path+'\\\\'+img_name)\n",
    "\n",
    "cv2.imshow('Image',img)\n",
    "cv2.waitKey(0)\n",
    "\n",
    "cv2.destroyAllWindows()"
   ]
  },
  {
   "cell_type": "code",
   "execution_count": 19,
   "id": "c038622a",
   "metadata": {},
   "outputs": [],
   "source": [
    "img = cv2.imread(path+'\\\\'+img_name)\n",
    "\n",
    "img = cv2.resize(img,(500,400))\n",
    "\n",
    "cv2.imshow('Image',img)\n",
    "cv2.waitKey(0)\n",
    "\n",
    "cv2.destroyAllWindows()"
   ]
  },
  {
   "cell_type": "code",
   "execution_count": 45,
   "id": "a057a38e",
   "metadata": {},
   "outputs": [],
   "source": [
    "import os\n"
   ]
  },
  {
   "cell_type": "code",
   "execution_count": 41,
   "id": "679ea6c2",
   "metadata": {},
   "outputs": [],
   "source": [
    "img_names = os.listdir(r'C:\\Users\\amitk\\Downloads\\images_ml')\n",
    "\n",
    "for img_name in img_names:\n",
    "  img = cv2.imread(path+'\\\\'+img_name)\n",
    "  img = cv2.resize(img,(500,400))\n",
    "  cv2.imshow('Image',img)\n",
    "  cv2.waitKey(0)\n",
    "\n",
    "cv2.destroyAllWindows()"
   ]
  },
  {
   "cell_type": "code",
   "execution_count": 52,
   "id": "42e57141",
   "metadata": {},
   "outputs": [],
   "source": [
    "img_names = os.listdir(r'C:\\Users\\amitk\\Downloads\\images_ml')\n",
    "\n",
    "for img_name in img_names:\n",
    "  img = cv2.imread(path+'\\\\'+img_name)\n",
    "  img = cv2.resize(img,(300,200))\n",
    "  img_2 = np.hstack((img,img))\n",
    "  img_3 = np.vstack((img_2,img_2))\n",
    "  cv2.imshow('Image',img_3)\n",
    "  cv2.waitKey(0)\n",
    "\n",
    "cv2.destroyAllWindows()"
   ]
  },
  {
   "cell_type": "code",
   "execution_count": null,
   "id": "c76206e0",
   "metadata": {},
   "outputs": [],
   "source": []
  },
  {
   "cell_type": "code",
   "execution_count": null,
   "id": "d399e558",
   "metadata": {},
   "outputs": [],
   "source": []
  },
  {
   "cell_type": "code",
   "execution_count": null,
   "id": "ff00593e",
   "metadata": {},
   "outputs": [],
   "source": []
  },
  {
   "cell_type": "code",
   "execution_count": null,
   "id": "0f9be0d1",
   "metadata": {},
   "outputs": [],
   "source": []
  }
 ],
 "metadata": {
  "kernelspec": {
   "display_name": "Python 3 (ipykernel)",
   "language": "python",
   "name": "python3"
  },
  "language_info": {
   "codemirror_mode": {
    "name": "ipython",
    "version": 3
   },
   "file_extension": ".py",
   "mimetype": "text/x-python",
   "name": "python",
   "nbconvert_exporter": "python",
   "pygments_lexer": "ipython3",
   "version": "3.9.12"
  }
 },
 "nbformat": 4,
 "nbformat_minor": 5
}
